{
 "cells": [
  {
   "cell_type": "markdown",
   "metadata": {},
   "source": [
    "# 1. Introduction\n",
    " There is a huge impact on society due to traffic accidents where there are great costs of fatalities and injuries. In recent years, there is an increase in the research's attention to determine the significantly affect the severity of the driver's injuries which are caused due to road accidents accurate  , and comprehensive accident records are the basis of accident analysis. the effective use of accident records depends on some factors , like the accuracy of the data record relation, and data analysis. There are many approaches applied to this scenario to study the problem. A recent study illustrated that the residential and shopping sites are more hazardous than village areas might have been predicted, the frequencies of the casualties were higher near the zones of residence possibly because of the higher exposure. A study revealed that the casualty rates among the residential areas are classified as relatively deprived and significantly higher than those from relatively affluent areas.  \n",
    "accidents have become very common these days. Nearly 1.25 million people die in road crashes each year, onaverage, 3,287 deaths a day. Moreover, 20—50 million people are injured or disabled annually. Road traffic crashes rank as the 9th leading cause of death and accounts for 2.2% of all deathsglobally. In this contest to reduce the severity of the accidents machine learning and neural techniques have been used for analysis.Car accidents are one of the common types of Collisions occurring everywhere globally every day. By analyzing the different factors which cause the collision. In this section, we are discussing the data Capstone project topic Car accident severity.\n",
    "\n",
    "\n",
    " # 2.Business Understanding\n",
    "\n",
    " A car collision or car accident one of the collision type in Road accidents. According to Corrigan [1],\n",
    " despite collecting large quantities of traffic data, Transportation Departments of all levels are unable\n",
    " to use such data to good effect. Founded in 2015, a start-up called ODN could predict when and\n",
    " where accidents are most likely to happen. Officials could use such information to direct safety\n",
    " efforts at the stretches of a\n",
    " t of this research,\n",
    " some of the developed countries\n",
    " like US, UK  governments could use the information  generated from\n",
    " a prediction system with a Neural Network predicting the accident severity and use this information\n",
    "to enhance the laws to build safer roads for the future.In this project, we are dealing with the all  possible ways to reach the destination by overcoming car accident servery with the different critical\n",
    " traffic conditions on the way to the journey. By prediction car accident severity improve the traffic safety\n",
    " measures. And implements the traffic rules accordingly to governments Better severity conditions.\n",
    " \n",
    "# 3.ObjectivesThe objectives of this Capstone project are mainly the following:\n",
    "1.Gather a comprehensive database of road accident statistics for built-up roads with factors that affect road safety which has been provided by the database.\n",
    "2.Analyze data for the factors, which can impact accident rates (e.g. light conditions, weather, road surface conditions, types of junctions,etc.)\n",
    " 3. Determine the type of road classes with the highest and lowest amount ofaccident rates from analyzing tables of road accident statistics and charts created from the database UK-2019 accident set.\n",
    "4.Suggest appropriate measures for the factors and the road classdetermined the most dangerous for improving car accident severity.  \n",
    "\n"
   ]
  },
  {
   "cell_type": "code",
   "execution_count": 34,
   "metadata": {},
   "outputs": [],
   "source": [
    "#Car accident severity project\n",
    "#Importing libraries\n",
    "import pandas as pd\n",
    "import numpy as np\n"
   ]
  },
  {
   "cell_type": "code",
   "execution_count": 35,
   "metadata": {},
   "outputs": [
    {
     "data": {
      "text/plain": [
       "'C:\\\\Users\\\\USER'"
      ]
     },
     "execution_count": 35,
     "metadata": {},
     "output_type": "execute_result"
    }
   ],
   "source": [
    "pwd"
   ]
  },
  {
   "cell_type": "code",
   "execution_count": 36,
   "metadata": {},
   "outputs": [],
   "source": [
    "df=pd.read_csv('Accidents 2019.csv')"
   ]
  },
  {
   "cell_type": "code",
   "execution_count": 37,
   "metadata": {},
   "outputs": [
    {
     "data": {
      "text/html": [
       "<div>\n",
       "<style scoped>\n",
       "    .dataframe tbody tr th:only-of-type {\n",
       "        vertical-align: middle;\n",
       "    }\n",
       "\n",
       "    .dataframe tbody tr th {\n",
       "        vertical-align: top;\n",
       "    }\n",
       "\n",
       "    .dataframe thead th {\n",
       "        text-align: right;\n",
       "    }\n",
       "</style>\n",
       "<table border=\"1\" class=\"dataframe\">\n",
       "  <thead>\n",
       "    <tr style=\"text-align: right;\">\n",
       "      <th></th>\n",
       "      <th>Reference Number</th>\n",
       "      <th>Grid Ref: Easting</th>\n",
       "      <th>Grid Ref: Northing</th>\n",
       "      <th>Number of Vehicles</th>\n",
       "      <th>Accident Date</th>\n",
       "      <th>Time (24hr)</th>\n",
       "      <th>1st Road Class</th>\n",
       "      <th>Road Surface</th>\n",
       "      <th>Lighting Conditions</th>\n",
       "      <th>Weather Conditions</th>\n",
       "      <th>...</th>\n",
       "      <th>Type of Vehicle 6</th>\n",
       "      <th>Casualty Class 6</th>\n",
       "      <th>Casualty Severity 6</th>\n",
       "      <th>Sex of Casualty 6</th>\n",
       "      <th>Age of Casualty 6</th>\n",
       "      <th>Type of Vehicle 7</th>\n",
       "      <th>Casualty Class 7</th>\n",
       "      <th>Casualty Severity 7</th>\n",
       "      <th>Sex of Casualty 7</th>\n",
       "      <th>Age of Casualty 7</th>\n",
       "    </tr>\n",
       "  </thead>\n",
       "  <tbody>\n",
       "    <tr>\n",
       "      <th>0</th>\n",
       "      <td>6140231</td>\n",
       "      <td>398364</td>\n",
       "      <td>418232</td>\n",
       "      <td>1</td>\n",
       "      <td>43469</td>\n",
       "      <td>701</td>\n",
       "      <td>A</td>\n",
       "      <td>Dry</td>\n",
       "      <td>Darkness: no street lighting</td>\n",
       "      <td>Fine without high winds</td>\n",
       "      <td>...</td>\n",
       "      <td>NaN</td>\n",
       "      <td>NaN</td>\n",
       "      <td>NaN</td>\n",
       "      <td>NaN</td>\n",
       "      <td>NaN</td>\n",
       "      <td>NaN</td>\n",
       "      <td>NaN</td>\n",
       "      <td>NaN</td>\n",
       "      <td>NaN</td>\n",
       "      <td>NaN</td>\n",
       "    </tr>\n",
       "    <tr>\n",
       "      <th>1</th>\n",
       "      <td>6142035</td>\n",
       "      <td>407438</td>\n",
       "      <td>426457</td>\n",
       "      <td>1</td>\n",
       "      <td>43469</td>\n",
       "      <td>2308</td>\n",
       "      <td>Unclassified</td>\n",
       "      <td>Dry</td>\n",
       "      <td>Darkness: street lights present and lit</td>\n",
       "      <td>Fine without high winds</td>\n",
       "      <td>...</td>\n",
       "      <td>NaN</td>\n",
       "      <td>NaN</td>\n",
       "      <td>NaN</td>\n",
       "      <td>NaN</td>\n",
       "      <td>NaN</td>\n",
       "      <td>NaN</td>\n",
       "      <td>NaN</td>\n",
       "      <td>NaN</td>\n",
       "      <td>NaN</td>\n",
       "      <td>NaN</td>\n",
       "    </tr>\n",
       "    <tr>\n",
       "      <th>2</th>\n",
       "      <td>6170291</td>\n",
       "      <td>409015</td>\n",
       "      <td>425004</td>\n",
       "      <td>1</td>\n",
       "      <td>43472</td>\n",
       "      <td>838</td>\n",
       "      <td>Unclassified</td>\n",
       "      <td>Dry</td>\n",
       "      <td>Daylight: street lights present</td>\n",
       "      <td>Fine without high winds</td>\n",
       "      <td>...</td>\n",
       "      <td>NaN</td>\n",
       "      <td>NaN</td>\n",
       "      <td>NaN</td>\n",
       "      <td>NaN</td>\n",
       "      <td>NaN</td>\n",
       "      <td>NaN</td>\n",
       "      <td>NaN</td>\n",
       "      <td>NaN</td>\n",
       "      <td>NaN</td>\n",
       "      <td>NaN</td>\n",
       "    </tr>\n",
       "    <tr>\n",
       "      <th>3</th>\n",
       "      <td>6180214</td>\n",
       "      <td>409646</td>\n",
       "      <td>422315</td>\n",
       "      <td>2</td>\n",
       "      <td>43473</td>\n",
       "      <td>705</td>\n",
       "      <td>A</td>\n",
       "      <td>Dry</td>\n",
       "      <td>Daylight: street lights present</td>\n",
       "      <td>Fine without high winds</td>\n",
       "      <td>...</td>\n",
       "      <td>NaN</td>\n",
       "      <td>NaN</td>\n",
       "      <td>NaN</td>\n",
       "      <td>NaN</td>\n",
       "      <td>NaN</td>\n",
       "      <td>NaN</td>\n",
       "      <td>NaN</td>\n",
       "      <td>NaN</td>\n",
       "      <td>NaN</td>\n",
       "      <td>NaN</td>\n",
       "    </tr>\n",
       "    <tr>\n",
       "      <th>4</th>\n",
       "      <td>6191021</td>\n",
       "      <td>407754</td>\n",
       "      <td>428825</td>\n",
       "      <td>1</td>\n",
       "      <td>43474</td>\n",
       "      <td>1515</td>\n",
       "      <td>Unclassified</td>\n",
       "      <td>Dry</td>\n",
       "      <td>Daylight: street lights present</td>\n",
       "      <td>Fine without high winds</td>\n",
       "      <td>...</td>\n",
       "      <td>NaN</td>\n",
       "      <td>NaN</td>\n",
       "      <td>NaN</td>\n",
       "      <td>NaN</td>\n",
       "      <td>NaN</td>\n",
       "      <td>NaN</td>\n",
       "      <td>NaN</td>\n",
       "      <td>NaN</td>\n",
       "      <td>NaN</td>\n",
       "      <td>NaN</td>\n",
       "    </tr>\n",
       "  </tbody>\n",
       "</table>\n",
       "<p>5 rows × 45 columns</p>\n",
       "</div>"
      ],
      "text/plain": [
       "  Reference Number  Grid Ref: Easting  Grid Ref: Northing  Number of Vehicles  \\\n",
       "0          6140231             398364              418232                   1   \n",
       "1          6142035             407438              426457                   1   \n",
       "2          6170291             409015              425004                   1   \n",
       "3          6180214             409646              422315                   2   \n",
       "4          6191021             407754              428825                   1   \n",
       "\n",
       "   Accident Date  Time (24hr) 1st Road Class Road Surface  \\\n",
       "0          43469          701              A          Dry   \n",
       "1          43469         2308   Unclassified          Dry   \n",
       "2          43472          838   Unclassified          Dry   \n",
       "3          43473          705              A          Dry   \n",
       "4          43474         1515   Unclassified          Dry   \n",
       "\n",
       "                       Lighting Conditions       Weather Conditions  ...  \\\n",
       "0             Darkness: no street lighting  Fine without high winds  ...   \n",
       "1  Darkness: street lights present and lit  Fine without high winds  ...   \n",
       "2          Daylight: street lights present  Fine without high winds  ...   \n",
       "3          Daylight: street lights present  Fine without high winds  ...   \n",
       "4          Daylight: street lights present  Fine without high winds  ...   \n",
       "\n",
       "  Type of Vehicle 6 Casualty Class 6 Casualty Severity 6 Sex of Casualty 6  \\\n",
       "0               NaN              NaN                 NaN               NaN   \n",
       "1               NaN              NaN                 NaN               NaN   \n",
       "2               NaN              NaN                 NaN               NaN   \n",
       "3               NaN              NaN                 NaN               NaN   \n",
       "4               NaN              NaN                 NaN               NaN   \n",
       "\n",
       "   Age of Casualty 6 Type of Vehicle 7 Casualty Class 7 Casualty Severity 7  \\\n",
       "0                NaN               NaN              NaN                 NaN   \n",
       "1                NaN               NaN              NaN                 NaN   \n",
       "2                NaN               NaN              NaN                 NaN   \n",
       "3                NaN               NaN              NaN                 NaN   \n",
       "4                NaN               NaN              NaN                 NaN   \n",
       "\n",
       "  Sex of Casualty 7 Age of Casualty 7  \n",
       "0               NaN               NaN  \n",
       "1               NaN               NaN  \n",
       "2               NaN               NaN  \n",
       "3               NaN               NaN  \n",
       "4               NaN               NaN  \n",
       "\n",
       "[5 rows x 45 columns]"
      ]
     },
     "execution_count": 37,
     "metadata": {},
     "output_type": "execute_result"
    }
   ],
   "source": [
    "df.head()"
   ]
  },
  {
   "cell_type": "code",
   "execution_count": 38,
   "metadata": {},
   "outputs": [
    {
     "data": {
      "text/plain": [
       "Reference Number       object\n",
       "Grid Ref: Easting       int64\n",
       "Grid Ref: Northing      int64\n",
       "Number of Vehicles      int64\n",
       "Accident Date           int64\n",
       "Time (24hr)             int64\n",
       "1st Road Class         object\n",
       "Road Surface           object\n",
       "Lighting Conditions    object\n",
       "Weather Conditions     object\n",
       "Type of Vehicle 1      object\n",
       "Casualty Class 1       object\n",
       "Casualty Severity 1    object\n",
       "Sex of Casualty 1      object\n",
       "Age of Casualty 1       int64\n",
       "Type of Vehicle 2      object\n",
       "Casualty Class 2       object\n",
       "Casualty Severity 2    object\n",
       "Sex of Casualty 2      object\n",
       "Age of Casualty 2      object\n",
       "Type of Vehicle 3      object\n",
       "Casualty Class 3       object\n",
       "Casualty Severity 3    object\n",
       "Sex of Casualty 3      object\n",
       "Age of Casualty 3      object\n",
       "Type of Vehicle 4      object\n",
       "Casualty Class 4       object\n",
       "Casualty Severity 4    object\n",
       "Sex of Casualty 4      object\n",
       "Age of Casualty 4      object\n",
       "Type of Vehicle 5      object\n",
       "Casualty Class 5       object\n",
       "Casualty Severity 5    object\n",
       "Sex of Casualty 5      object\n",
       "Age of Casualty 5      object\n",
       "Type of Vehicle 6      object\n",
       "Casualty Class 6       object\n",
       "Casualty Severity 6    object\n",
       "Sex of Casualty 6      object\n",
       "Age of Casualty 6      object\n",
       "Type of Vehicle 7      object\n",
       "Casualty Class 7       object\n",
       "Casualty Severity 7    object\n",
       "Sex of Casualty 7      object\n",
       "Age of Casualty 7      object\n",
       "dtype: object"
      ]
     },
     "execution_count": 38,
     "metadata": {},
     "output_type": "execute_result"
    }
   ],
   "source": [
    "df.dtypes"
   ]
  },
  {
   "cell_type": "code",
   "execution_count": 39,
   "metadata": {},
   "outputs": [
    {
     "data": {
      "text/html": [
       "<div>\n",
       "<style scoped>\n",
       "    .dataframe tbody tr th:only-of-type {\n",
       "        vertical-align: middle;\n",
       "    }\n",
       "\n",
       "    .dataframe tbody tr th {\n",
       "        vertical-align: top;\n",
       "    }\n",
       "\n",
       "    .dataframe thead th {\n",
       "        text-align: right;\n",
       "    }\n",
       "</style>\n",
       "<table border=\"1\" class=\"dataframe\">\n",
       "  <thead>\n",
       "    <tr style=\"text-align: right;\">\n",
       "      <th></th>\n",
       "      <th>Grid Ref: Easting</th>\n",
       "      <th>Grid Ref: Northing</th>\n",
       "      <th>Number of Vehicles</th>\n",
       "      <th>Accident Date</th>\n",
       "      <th>Time (24hr)</th>\n",
       "      <th>Age of Casualty 1</th>\n",
       "    </tr>\n",
       "  </thead>\n",
       "  <tbody>\n",
       "    <tr>\n",
       "      <th>Grid Ref: Easting</th>\n",
       "      <td>1.000000</td>\n",
       "      <td>0.007166</td>\n",
       "      <td>0.094315</td>\n",
       "      <td>0.151429</td>\n",
       "      <td>-0.045607</td>\n",
       "      <td>-0.132149</td>\n",
       "    </tr>\n",
       "    <tr>\n",
       "      <th>Grid Ref: Northing</th>\n",
       "      <td>0.007166</td>\n",
       "      <td>1.000000</td>\n",
       "      <td>-0.029322</td>\n",
       "      <td>-0.073697</td>\n",
       "      <td>0.051562</td>\n",
       "      <td>-0.092974</td>\n",
       "    </tr>\n",
       "    <tr>\n",
       "      <th>Number of Vehicles</th>\n",
       "      <td>0.094315</td>\n",
       "      <td>-0.029322</td>\n",
       "      <td>1.000000</td>\n",
       "      <td>-0.042695</td>\n",
       "      <td>0.044298</td>\n",
       "      <td>-0.004039</td>\n",
       "    </tr>\n",
       "    <tr>\n",
       "      <th>Accident Date</th>\n",
       "      <td>0.151429</td>\n",
       "      <td>-0.073697</td>\n",
       "      <td>-0.042695</td>\n",
       "      <td>1.000000</td>\n",
       "      <td>0.040475</td>\n",
       "      <td>-0.067686</td>\n",
       "    </tr>\n",
       "    <tr>\n",
       "      <th>Time (24hr)</th>\n",
       "      <td>-0.045607</td>\n",
       "      <td>0.051562</td>\n",
       "      <td>0.044298</td>\n",
       "      <td>0.040475</td>\n",
       "      <td>1.000000</td>\n",
       "      <td>-0.181658</td>\n",
       "    </tr>\n",
       "    <tr>\n",
       "      <th>Age of Casualty 1</th>\n",
       "      <td>-0.132149</td>\n",
       "      <td>-0.092974</td>\n",
       "      <td>-0.004039</td>\n",
       "      <td>-0.067686</td>\n",
       "      <td>-0.181658</td>\n",
       "      <td>1.000000</td>\n",
       "    </tr>\n",
       "  </tbody>\n",
       "</table>\n",
       "</div>"
      ],
      "text/plain": [
       "                    Grid Ref: Easting  Grid Ref: Northing  Number of Vehicles  \\\n",
       "Grid Ref: Easting            1.000000            0.007166            0.094315   \n",
       "Grid Ref: Northing           0.007166            1.000000           -0.029322   \n",
       "Number of Vehicles           0.094315           -0.029322            1.000000   \n",
       "Accident Date                0.151429           -0.073697           -0.042695   \n",
       "Time (24hr)                 -0.045607            0.051562            0.044298   \n",
       "Age of Casualty 1           -0.132149           -0.092974           -0.004039   \n",
       "\n",
       "                    Accident Date  Time (24hr)  Age of Casualty 1  \n",
       "Grid Ref: Easting        0.151429    -0.045607          -0.132149  \n",
       "Grid Ref: Northing      -0.073697     0.051562          -0.092974  \n",
       "Number of Vehicles      -0.042695     0.044298          -0.004039  \n",
       "Accident Date            1.000000     0.040475          -0.067686  \n",
       "Time (24hr)              0.040475     1.000000          -0.181658  \n",
       "Age of Casualty 1       -0.067686    -0.181658           1.000000  "
      ]
     },
     "execution_count": 39,
     "metadata": {},
     "output_type": "execute_result"
    }
   ],
   "source": [
    "df.corr()"
   ]
  },
  {
   "cell_type": "code",
   "execution_count": 40,
   "metadata": {},
   "outputs": [
    {
     "data": {
      "text/plain": [
       "Reference Number         0\n",
       "Grid Ref: Easting        0\n",
       "Grid Ref: Northing       0\n",
       "Number of Vehicles       0\n",
       "Accident Date            0\n",
       "Time (24hr)              0\n",
       "1st Road Class           0\n",
       "Road Surface             0\n",
       "Lighting Conditions      0\n",
       "Weather Conditions       0\n",
       "Type of Vehicle 1        0\n",
       "Casualty Class 1         0\n",
       "Casualty Severity 1      0\n",
       "Sex of Casualty 1        0\n",
       "Age of Casualty 1        0\n",
       "Type of Vehicle 2       80\n",
       "Casualty Class 2        73\n",
       "Casualty Severity 2     73\n",
       "Sex of Casualty 2       73\n",
       "Age of Casualty 2       74\n",
       "Type of Vehicle 3      232\n",
       "Casualty Class 3       221\n",
       "Casualty Severity 3    221\n",
       "Sex of Casualty 3      221\n",
       "Age of Casualty 3      221\n",
       "Type of Vehicle 4      256\n",
       "Casualty Class 4       251\n",
       "Casualty Severity 4    251\n",
       "Sex of Casualty 4      251\n",
       "Age of Casualty 4      251\n",
       "Type of Vehicle 5      267\n",
       "Casualty Class 5       265\n",
       "Casualty Severity 5    265\n",
       "Sex of Casualty 5      265\n",
       "Age of Casualty 5      265\n",
       "Type of Vehicle 6      268\n",
       "Casualty Class 6       267\n",
       "Casualty Severity 6    267\n",
       "Sex of Casualty 6      267\n",
       "Age of Casualty 6      267\n",
       "Type of Vehicle 7      270\n",
       "Casualty Class 7       270\n",
       "Casualty Severity 7    270\n",
       "Sex of Casualty 7      270\n",
       "Age of Casualty 7      270\n",
       "dtype: int64"
      ]
     },
     "execution_count": 40,
     "metadata": {},
     "output_type": "execute_result"
    }
   ],
   "source": [
    "df.isnull().sum()"
   ]
  },
  {
   "cell_type": "code",
   "execution_count": 41,
   "metadata": {},
   "outputs": [],
   "source": [
    "import seaborn as sns"
   ]
  },
  {
   "cell_type": "code",
   "execution_count": 42,
   "metadata": {},
   "outputs": [
    {
     "data": {
      "text/plain": [
       "<matplotlib.axes._subplots.AxesSubplot at 0x220ccc6f340>"
      ]
     },
     "execution_count": 42,
     "metadata": {},
     "output_type": "execute_result"
    },
    {
     "data": {
      "image/png": "[encoded data removed]",
      "text/plain": [
       "<Figure size 432x288 with 2 Axes>"
      ]
     },
     "metadata": {},
     "output_type": "display_data"
    }
   ],
   "source": [
    "sns.set(style=\"white\")\n",
    "sns.set(style=\"whitegrid\", color_codes=True)\n",
    "sns.heatmap(df.corr())\n"
   ]
  },
  {
   "cell_type": "code",
   "execution_count": null,
   "metadata": {},
   "outputs": [],
   "source": []
  },
  {
   "cell_type": "code",
   "execution_count": 43,
   "metadata": {},
   "outputs": [
    {
     "data": {
      "text/plain": [
       "<function matplotlib.pyplot.show(*args, **kw)>"
      ]
     },
     "execution_count": 43,
     "metadata": {},
     "output_type": "execute_result"
    },
    {
     "data": {
      "image/png": "[encoded data removed]",
      "text/plain": [
       "<Figure size 432x288 with 1 Axes>"
      ]
     },
     "metadata": {},
     "output_type": "display_data"
    }
   ],
   "source": [
    "import matplotlib.ticker as mtick\n",
    "import matplotlib.pyplot as plt\n",
    "df.groupby(['Casualty Severity 3', 'Weather Conditions']).size().groupby(level=0).apply(\n",
    "    lambda x: 100 * x / x.sum()\n",
    ").unstack().plot(kind='bar', stacked=True)\n",
    "plt.gca().yaxis.set_major_formatter(mtick.PercentFormatter())\n",
    "plt.show"
   ]
  },
  {
   "cell_type": "code",
   "execution_count": 44,
   "metadata": {},
   "outputs": [
    {
     "data": {
      "text/plain": [
       "<function matplotlib.pyplot.show(*args, **kw)>"
      ]
     },
     "execution_count": 44,
     "metadata": {},
     "output_type": "execute_result"
    },
    {
     "data": {
      "image/png": "[encoded data removed]",
      "text/plain": [
       "<Figure size 432x288 with 1 Axes>"
      ]
     },
     "metadata": {},
     "output_type": "display_data"
    }
   ],
   "source": [
    "import matplotlib.ticker as mtick\n",
    "import matplotlib.pyplot as plt\n",
    "df.groupby(['Casualty Severity 3', 'Lighting Conditions']).size().groupby(level=0).apply(\n",
    "    lambda x: 100 * x / x.sum()\n",
    ").unstack().plot(kind='bar', stacked=True)\n",
    "plt.gca().yaxis.set_major_formatter(mtick.PercentFormatter())\n",
    "plt.show"
   ]
  },
  {
   "cell_type": "code",
   "execution_count": 58,
   "metadata": {
    "scrolled": true
   },
   "outputs": [
    {
     "ename": "TypeError",
     "evalue": "no numeric data to plot",
     "output_type": "error",
     "traceback": [
      "\u001b[1;31m---------------------------------------------------------------------------\u001b[0m",
      "\u001b[1;31mTypeError\u001b[0m                                 Traceback (most recent call last)",
      "\u001b[1;32m<ipython-input-58-cf036d7cf2f9>\u001b[0m in \u001b[0;36m<module>\u001b[1;34m\u001b[0m\n\u001b[0;32m      3\u001b[0m \u001b[1;32mfor\u001b[0m \u001b[0ms\u001b[0m \u001b[1;32min\u001b[0m \u001b[0mnp\u001b[0m\u001b[1;33m.\u001b[0m\u001b[0marange\u001b[0m\u001b[1;33m(\u001b[0m\u001b[1;36m1\u001b[0m\u001b[1;33m,\u001b[0m\u001b[1;36m5\u001b[0m\u001b[1;33m)\u001b[0m\u001b[1;33m:\u001b[0m\u001b[1;33m\u001b[0m\u001b[1;33m\u001b[0m\u001b[0m\n\u001b[0;32m      4\u001b[0m     \u001b[0mplt\u001b[0m\u001b[1;33m.\u001b[0m\u001b[0msubplots\u001b[0m\u001b[1;33m(\u001b[0m\u001b[0mfigsize\u001b[0m\u001b[1;33m=\u001b[0m\u001b[1;33m(\u001b[0m\u001b[1;36m12\u001b[0m\u001b[1;33m,\u001b[0m\u001b[1;36m5\u001b[0m\u001b[1;33m)\u001b[0m\u001b[1;33m)\u001b[0m\u001b[1;33m\u001b[0m\u001b[1;33m\u001b[0m\u001b[0m\n\u001b[1;32m----> 5\u001b[1;33m     \u001b[0mdf\u001b[0m\u001b[1;33m.\u001b[0m\u001b[0mloc\u001b[0m\u001b[1;33m[\u001b[0m\u001b[0mdf\u001b[0m\u001b[1;33m[\u001b[0m\u001b[1;34m\"Casualty Severity 3\"\u001b[0m\u001b[1;33m]\u001b[0m \u001b[1;33m==\u001b[0m \u001b[0ms\u001b[0m\u001b[1;33m]\u001b[0m\u001b[1;33m,\u001b[0m\u001b[0mdf\u001b[0m\u001b[1;33m[\u001b[0m\u001b[1;34m'1st Road Class'\u001b[0m\u001b[1;33m]\u001b[0m\u001b[1;33m.\u001b[0m\u001b[0msort_values\u001b[0m\u001b[1;33m(\u001b[0m\u001b[0mascending\u001b[0m\u001b[1;33m=\u001b[0m\u001b[1;32mFalse\u001b[0m\u001b[1;33m)\u001b[0m\u001b[1;33m.\u001b[0m\u001b[0mhead\u001b[0m\u001b[1;33m(\u001b[0m\u001b[1;36m20\u001b[0m\u001b[1;33m)\u001b[0m\u001b[1;33m.\u001b[0m\u001b[0mplot\u001b[0m\u001b[1;33m.\u001b[0m\u001b[0mbar\u001b[0m\u001b[1;33m(\u001b[0m\u001b[0mx\u001b[0m\u001b[1;33m,\u001b[0m\u001b[0my\u001b[0m\u001b[1;33m)\u001b[0m\u001b[1;33m\u001b[0m\u001b[1;33m\u001b[0m\u001b[0m\n\u001b[0m\u001b[0;32m      6\u001b[0m     \u001b[0mplt\u001b[0m\u001b[1;33m.\u001b[0m\u001b[0mxlabel\u001b[0m\u001b[1;33m(\u001b[0m\u001b[1;34m'1st Road Class & No'\u001b[0m\u001b[1;33m,\u001b[0m \u001b[0mfontsize\u001b[0m\u001b[1;33m=\u001b[0m\u001b[1;36m16\u001b[0m\u001b[1;33m)\u001b[0m\u001b[1;33m\u001b[0m\u001b[1;33m\u001b[0m\u001b[0m\n\u001b[0;32m      7\u001b[0m     \u001b[0mplt\u001b[0m\u001b[1;33m.\u001b[0m\u001b[0mylabel\u001b[0m\u001b[1;33m(\u001b[0m\u001b[1;34m'Car accident severity scount'\u001b[0m\u001b[1;33m,\u001b[0m \u001b[0mfontsize\u001b[0m\u001b[1;33m=\u001b[0m\u001b[1;36m16\u001b[0m\u001b[1;33m)\u001b[0m\u001b[1;33m\u001b[0m\u001b[1;33m\u001b[0m\u001b[0m\n",
      "\u001b[1;32m~\\anaconda3\\lib\\site-packages\\pandas\\plotting\\_core.py\u001b[0m in \u001b[0;36mbar\u001b[1;34m(self, x, y, **kwargs)\u001b[0m\n\u001b[0;32m   1001\u001b[0m             \u001b[1;33m>>\u001b[0m\u001b[1;33m>\u001b[0m \u001b[0max\u001b[0m \u001b[1;33m=\u001b[0m \u001b[0mdf\u001b[0m\u001b[1;33m.\u001b[0m\u001b[0mplot\u001b[0m\u001b[1;33m.\u001b[0m\u001b[0mbar\u001b[0m\u001b[1;33m(\u001b[0m\u001b[0mx\u001b[0m\u001b[1;33m=\u001b[0m\u001b[1;34m'lifespan'\u001b[0m\u001b[1;33m,\u001b[0m \u001b[0mrot\u001b[0m\u001b[1;33m=\u001b[0m\u001b[1;36m0\u001b[0m\u001b[1;33m)\u001b[0m\u001b[1;33m\u001b[0m\u001b[1;33m\u001b[0m\u001b[0m\n\u001b[0;32m   1002\u001b[0m         \"\"\"\n\u001b[1;32m-> 1003\u001b[1;33m         \u001b[1;32mreturn\u001b[0m \u001b[0mself\u001b[0m\u001b[1;33m(\u001b[0m\u001b[0mkind\u001b[0m\u001b[1;33m=\u001b[0m\u001b[1;34m\"bar\"\u001b[0m\u001b[1;33m,\u001b[0m \u001b[0mx\u001b[0m\u001b[1;33m=\u001b[0m\u001b[0mx\u001b[0m\u001b[1;33m,\u001b[0m \u001b[0my\u001b[0m\u001b[1;33m=\u001b[0m\u001b[0my\u001b[0m\u001b[1;33m,\u001b[0m \u001b[1;33m**\u001b[0m\u001b[0mkwargs\u001b[0m\u001b[1;33m)\u001b[0m\u001b[1;33m\u001b[0m\u001b[1;33m\u001b[0m\u001b[0m\n\u001b[0m\u001b[0;32m   1004\u001b[0m \u001b[1;33m\u001b[0m\u001b[0m\n\u001b[0;32m   1005\u001b[0m     \u001b[1;32mdef\u001b[0m \u001b[0mbarh\u001b[0m\u001b[1;33m(\u001b[0m\u001b[0mself\u001b[0m\u001b[1;33m,\u001b[0m \u001b[0mx\u001b[0m\u001b[1;33m=\u001b[0m\u001b[1;32mNone\u001b[0m\u001b[1;33m,\u001b[0m \u001b[0my\u001b[0m\u001b[1;33m=\u001b[0m\u001b[1;32mNone\u001b[0m\u001b[1;33m,\u001b[0m \u001b[1;33m**\u001b[0m\u001b[0mkwargs\u001b[0m\u001b[1;33m)\u001b[0m\u001b[1;33m:\u001b[0m\u001b[1;33m\u001b[0m\u001b[1;33m\u001b[0m\u001b[0m\n",
      "\u001b[1;32m~\\anaconda3\\lib\\site-packages\\pandas\\plotting\\_core.py\u001b[0m in \u001b[0;36m__call__\u001b[1;34m(self, *args, **kwargs)\u001b[0m\n\u001b[0;32m    845\u001b[0m                     \u001b[0mdata\u001b[0m\u001b[1;33m.\u001b[0m\u001b[0mcolumns\u001b[0m \u001b[1;33m=\u001b[0m \u001b[0mlabel_name\u001b[0m\u001b[1;33m\u001b[0m\u001b[1;33m\u001b[0m\u001b[0m\n\u001b[0;32m    846\u001b[0m \u001b[1;33m\u001b[0m\u001b[0m\n\u001b[1;32m--> 847\u001b[1;33m         \u001b[1;32mreturn\u001b[0m \u001b[0mplot_backend\u001b[0m\u001b[1;33m.\u001b[0m\u001b[0mplot\u001b[0m\u001b[1;33m(\u001b[0m\u001b[0mdata\u001b[0m\u001b[1;33m,\u001b[0m \u001b[0mkind\u001b[0m\u001b[1;33m=\u001b[0m\u001b[0mkind\u001b[0m\u001b[1;33m,\u001b[0m \u001b[1;33m**\u001b[0m\u001b[0mkwargs\u001b[0m\u001b[1;33m)\u001b[0m\u001b[1;33m\u001b[0m\u001b[1;33m\u001b[0m\u001b[0m\n\u001b[0m\u001b[0;32m    848\u001b[0m \u001b[1;33m\u001b[0m\u001b[0m\n\u001b[0;32m    849\u001b[0m     \u001b[0m__call__\u001b[0m\u001b[1;33m.\u001b[0m\u001b[0m__doc__\u001b[0m \u001b[1;33m=\u001b[0m \u001b[0m__doc__\u001b[0m\u001b[1;33m\u001b[0m\u001b[1;33m\u001b[0m\u001b[0m\n",
      "\u001b[1;32m~\\anaconda3\\lib\\site-packages\\pandas\\plotting\\_matplotlib\\__init__.py\u001b[0m in \u001b[0;36mplot\u001b[1;34m(data, kind, **kwargs)\u001b[0m\n\u001b[0;32m     59\u001b[0m             \u001b[0mkwargs\u001b[0m\u001b[1;33m[\u001b[0m\u001b[1;34m\"ax\"\u001b[0m\u001b[1;33m]\u001b[0m \u001b[1;33m=\u001b[0m \u001b[0mgetattr\u001b[0m\u001b[1;33m(\u001b[0m\u001b[0max\u001b[0m\u001b[1;33m,\u001b[0m \u001b[1;34m\"left_ax\"\u001b[0m\u001b[1;33m,\u001b[0m \u001b[0max\u001b[0m\u001b[1;33m)\u001b[0m\u001b[1;33m\u001b[0m\u001b[1;33m\u001b[0m\u001b[0m\n\u001b[0;32m     60\u001b[0m     \u001b[0mplot_obj\u001b[0m \u001b[1;33m=\u001b[0m \u001b[0mPLOT_CLASSES\u001b[0m\u001b[1;33m[\u001b[0m\u001b[0mkind\u001b[0m\u001b[1;33m]\u001b[0m\u001b[1;33m(\u001b[0m\u001b[0mdata\u001b[0m\u001b[1;33m,\u001b[0m \u001b[1;33m**\u001b[0m\u001b[0mkwargs\u001b[0m\u001b[1;33m)\u001b[0m\u001b[1;33m\u001b[0m\u001b[1;33m\u001b[0m\u001b[0m\n\u001b[1;32m---> 61\u001b[1;33m     \u001b[0mplot_obj\u001b[0m\u001b[1;33m.\u001b[0m\u001b[0mgenerate\u001b[0m\u001b[1;33m(\u001b[0m\u001b[1;33m)\u001b[0m\u001b[1;33m\u001b[0m\u001b[1;33m\u001b[0m\u001b[0m\n\u001b[0m\u001b[0;32m     62\u001b[0m     \u001b[0mplot_obj\u001b[0m\u001b[1;33m.\u001b[0m\u001b[0mdraw\u001b[0m\u001b[1;33m(\u001b[0m\u001b[1;33m)\u001b[0m\u001b[1;33m\u001b[0m\u001b[1;33m\u001b[0m\u001b[0m\n\u001b[0;32m     63\u001b[0m     \u001b[1;32mreturn\u001b[0m \u001b[0mplot_obj\u001b[0m\u001b[1;33m.\u001b[0m\u001b[0mresult\u001b[0m\u001b[1;33m\u001b[0m\u001b[1;33m\u001b[0m\u001b[0m\n",
      "\u001b[1;32m~\\anaconda3\\lib\\site-packages\\pandas\\plotting\\_matplotlib\\core.py\u001b[0m in \u001b[0;36mgenerate\u001b[1;34m(self)\u001b[0m\n\u001b[0;32m    259\u001b[0m     \u001b[1;32mdef\u001b[0m \u001b[0mgenerate\u001b[0m\u001b[1;33m(\u001b[0m\u001b[0mself\u001b[0m\u001b[1;33m)\u001b[0m\u001b[1;33m:\u001b[0m\u001b[1;33m\u001b[0m\u001b[1;33m\u001b[0m\u001b[0m\n\u001b[0;32m    260\u001b[0m         \u001b[0mself\u001b[0m\u001b[1;33m.\u001b[0m\u001b[0m_args_adjust\u001b[0m\u001b[1;33m(\u001b[0m\u001b[1;33m)\u001b[0m\u001b[1;33m\u001b[0m\u001b[1;33m\u001b[0m\u001b[0m\n\u001b[1;32m--> 261\u001b[1;33m         \u001b[0mself\u001b[0m\u001b[1;33m.\u001b[0m\u001b[0m_compute_plot_data\u001b[0m\u001b[1;33m(\u001b[0m\u001b[1;33m)\u001b[0m\u001b[1;33m\u001b[0m\u001b[1;33m\u001b[0m\u001b[0m\n\u001b[0m\u001b[0;32m    262\u001b[0m         \u001b[0mself\u001b[0m\u001b[1;33m.\u001b[0m\u001b[0m_setup_subplots\u001b[0m\u001b[1;33m(\u001b[0m\u001b[1;33m)\u001b[0m\u001b[1;33m\u001b[0m\u001b[1;33m\u001b[0m\u001b[0m\n\u001b[0;32m    263\u001b[0m         \u001b[0mself\u001b[0m\u001b[1;33m.\u001b[0m\u001b[0m_make_plot\u001b[0m\u001b[1;33m(\u001b[0m\u001b[1;33m)\u001b[0m\u001b[1;33m\u001b[0m\u001b[1;33m\u001b[0m\u001b[0m\n",
      "\u001b[1;32m~\\anaconda3\\lib\\site-packages\\pandas\\plotting\\_matplotlib\\core.py\u001b[0m in \u001b[0;36m_compute_plot_data\u001b[1;34m(self)\u001b[0m\n\u001b[0;32m    408\u001b[0m         \u001b[1;31m# no non-numeric frames or series allowed\u001b[0m\u001b[1;33m\u001b[0m\u001b[1;33m\u001b[0m\u001b[1;33m\u001b[0m\u001b[0m\n\u001b[0;32m    409\u001b[0m         \u001b[1;32mif\u001b[0m \u001b[0mis_empty\u001b[0m\u001b[1;33m:\u001b[0m\u001b[1;33m\u001b[0m\u001b[1;33m\u001b[0m\u001b[0m\n\u001b[1;32m--> 410\u001b[1;33m             \u001b[1;32mraise\u001b[0m \u001b[0mTypeError\u001b[0m\u001b[1;33m(\u001b[0m\u001b[1;34m\"no numeric data to plot\"\u001b[0m\u001b[1;33m)\u001b[0m\u001b[1;33m\u001b[0m\u001b[1;33m\u001b[0m\u001b[0m\n\u001b[0m\u001b[0;32m    411\u001b[0m \u001b[1;33m\u001b[0m\u001b[0m\n\u001b[0;32m    412\u001b[0m         \u001b[1;31m# GH25587: cast ExtensionArray of pandas (IntegerArray, etc.) to\u001b[0m\u001b[1;33m\u001b[0m\u001b[1;33m\u001b[0m\u001b[1;33m\u001b[0m\u001b[0m\n",
      "\u001b[1;31mTypeError\u001b[0m: no numeric data to plot"
     ]
    },
    {
     "data": {
      "image/png": "[encoded data removed]",
      "text/plain": [
       "<Figure size 864x360 with 1 Axes>"
      ]
     },
     "metadata": {},
     "output_type": "display_data"
    }
   ],
   "source": [
    "x = df['Number of Vehicles'].head()\n",
    "y=df['Time (24hr)'].head()\n",
    "for s in np.arange(1,5):\n",
    "    plt.subplots(figsize=(12,5))\n",
    "    df.loc[df[\"Casualty Severity 3\"] == s],df['1st Road Class'].sort_values(ascending=False).head(20).plot.bar(x,y)\n",
    "    plt.xlabel('1st Road Class & No', fontsize=16)\n",
    "    plt.ylabel('Car accident severity scount', fontsize=16)\n",
    "    plt.title('20 of the main 1st road class & no s for car accidents of severity' + str(s),fontsize=16)\n",
    "    plt.xticks(fontsize=16)\n",
    "    plt.yticks(fontsize=16)\n",
    "    "
   ]
  },
  {
   "cell_type": "markdown",
   "metadata": {},
   "source": [
    "## Modeling\n",
    "\n",
    "# The machine learning methods ave thrived in the applications of \n",
    "# language and text modelling -in -recent years which can potentially\n",
    "# counter the challenges In processing anddassifying the tweets. In most\n",
    "# of the studies, language modelling can be taken as a kind of information\n",
    "# extraction from the text messages, which is the process of converting\n",
    "# the unstructured text information into a structured database and solving\n",
    "# it as a supervised or unsupervised learning task. The limited word\n",
    "# features can be utilized for specific research."
   ]
  },
  {
   "cell_type": "code",
   "execution_count": null,
   "metadata": {},
   "outputs": [],
   "source": []
  },
  {
   "cell_type": "markdown",
   "metadata": {},
   "source": [
    "# Data modelling and deployement\n",
    "For the current project KNN and Decision tree classifier has been used car accident servity.\n",
    "c) KNN: KNN is a classification algorithm which is based on feature similarity. It analyses the data and\n",
    "measure the distance and similarities between data and cluster them based on K values. Distance is\n",
    "calculated in man ways, for this research (Labib 2019), we used Euclidean distance measurement. The\n",
    "class of new in\n",
    "closest one. The posteri9r p\n",
    "true th 'b\" is true.\n",
    "Decision tree classification\n",
    "In general decision tree classifier has goOdJuccuracy. ki)free induction is a typical inductive\n",
    "approach to learn knowledge on glassitjcaiior.pecision tregs slassify Ostaqees by sorting them down the\n",
    "tree from the root to some leaf node, which provides the cl\"sification of the instance. Decision Trees\n",
    "usually mimic human thinking ability while making a decision, so it is easy to understand. The logic\n",
    "behind the decision tree can be easily understood because it shows a tree-like structure."
   ]
  },
  {
   "cell_type": "code",
   "execution_count": null,
   "metadata": {},
   "outputs": [],
   "source": []
  },
  {
   "cell_type": "code",
   "execution_count": 63,
   "metadata": {},
   "outputs": [
    {
     "data": {
      "image/png": "[encoded data removed]",
      "text/plain": [
       "<Figure size 432x288 with 1 Axes>"
      ]
     },
     "metadata": {},
     "output_type": "display_data"
    }
   ],
   "source": [
    "objects = ('1', '2' ,'3', '4', '5', '6')\n",
    "y_pos = np.arange(len(objects))\n",
    "performance = [10,8,6,4,2,1]\n",
    "\n",
    "plt.bar(y_pos, performance, align='center', alpha=0.5)\n",
    "plt.xticks(y_pos, objects)\n",
    "plt.ylabel('Usage')\n",
    "plt.title('Number of neighbors')\n",
    "\n",
    "plt.show()"
   ]
  },
  {
   "cell_type": "markdown",
   "metadata": {},
   "source": [
    "\n",
    "# .Data analysis and Results and conclusions\n",
    "For the present project from data UK accidents set the data analysis is follows.\n",
    "From the bar plot charts, we can observe the Car accident servity with different\n",
    "attributes.\n",
    "The main attributes n consider Road class, Road surface, Weather\n",
    "conditions, light•ondilion\n",
    "101\n",
    "eaih condiiion from— 1,\n",
    ". Car accideneservity is igh\n",
    "ne without\n",
    "high winds, without high winds and remaining and 3,4,5,6,7 Snowing without\n",
    "high winds, Fine with high winds, raining with high winds, snowing with high\n",
    "winds, Fog or mist —if hazard svPich aresery risky and servity.\n",
    ". Car accident servity is high for Road class from fig.5 6,3 high servity ,1,2,4 ,5\n",
    "high risk.\n"
   ]
  },
  {
   "cell_type": "code",
   "execution_count": null,
   "metadata": {},
   "outputs": [],
   "source": []
  },
  {
   "cell_type": "markdown",
   "metadata": {},
   "source": [
    "# Cont.\n",
    "\n",
    "Car accident servity Road surface Dry, Wet / Damp are safe, which are Snow, Frost /\n",
    "\n",
    "Ice, Flood (surface water over 3cm deep) risky.\n",
    "Car accident servity for light conditions from fig.10, 1,4 Daylight: street lights present,\n",
    "\n",
    "Darkness: street lights presentin\n",
    "lit are safe.2,3,5 Daylight: no street lighting D\"kness: street\n",
    "eel lighti Verknéssesti•eet lighti unknown are\n",
    "lights present but unliG Darkness :\n",
    "unsafe.\n",
    "\n",
    "Car accident servity for time 24hr in day from ligu14s it i' pt»erved that from morning 6:45AM\n",
    "to 17:000PM car accident servitv has been decreasyd\n",
    "\n",
    "Car accident servity for age group is varLjing from 20-45.\n",
    "Car accident servity for road no U is high, And safe.\n",
    "\n",
    "Car accident servity for sex 1 slightly high than 2, means male servity high than female."
   ]
  },
  {
   "cell_type": "code",
   "execution_count": null,
   "metadata": {},
   "outputs": [],
   "source": []
  }
 ],
 "metadata": {
  "kernelspec": {
   "display_name": "Python 3",
   "language": "python",
   "name": "python3"
  },
  "language_info": {
   "codemirror_mode": {
    "name": "ipython",
    "version": 3
   },
   "file_extension": ".py",
   "mimetype": "text/x-python",
   "name": "python",
   "nbconvert_exporter": "python",
   "pygments_lexer": "ipython3",
   "version": "3.8.3"
  }
 },
 "nbformat": 4,
 "nbformat_minor": 4
}
